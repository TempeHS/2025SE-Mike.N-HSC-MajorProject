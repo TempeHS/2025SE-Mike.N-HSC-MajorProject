{
 "cells": [
  {
   "cell_type": "markdown",
   "id": "3f35f541",
   "metadata": {},
   "source": [
    "**Sprint 2: Data Wrangling**"
   ]
  },
  {
   "cell_type": "code",
   "execution_count": 1,
   "id": "04266fc9",
   "metadata": {},
   "outputs": [
    {
     "name": "stdout",
     "output_type": "stream",
     "text": [
      "['site_feature_names.npy', 'X_train_baseline.npz', 'baseline_logreg_submission.csv', 'y_train.npy', 'best_params_logreg_submission.csv', 'X_test_engineered.npz', 'site_dic.pkl', 'test_sessions.csv', 'X_train_engineered.npz', 'sample_submission.csv', 'X_test_baseline.npz', 'train_sessions.csv', 'best_params_oversampled_logreg_submission.csv']\n"
     ]
    }
   ],
   "source": [
    "#Dependencies\n",
    "import warnings\n",
    "warnings.filterwarnings('ignore')\n",
    "%matplotlib inline\n",
    "from matplotlib import pyplot as plt\n",
    "import seaborn as sns\n",
    "import sklearn\n",
    "import os\n",
    "import numpy as np\n",
    "import pandas as pd\n",
    "import pickle\n",
    "from sklearn.base import BaseEstimator, TransformerMixin\n",
    "from sklearn.pipeline import Pipeline, FeatureUnion\n",
    "from sklearn.feature_extraction.text import CountVectorizer, TfidfVectorizer\n",
    "from sklearn.preprocessing import StandardScaler, MinMaxScaler, RobustScaler\n",
    "from scipy.sparse import hstack\n",
    "print(os.listdir(\"../data\"))"
   ]
  },
  {
   "cell_type": "markdown",
   "id": "b28ba629",
   "metadata": {},
   "source": [
    "**Load the dataset**"
   ]
  },
  {
   "cell_type": "code",
   "execution_count": 2,
   "id": "868e673b",
   "metadata": {},
   "outputs": [],
   "source": [
    "PATH_TO_DATA = ('../data')\n",
    "train_df = pd.read_csv(os.path.join(PATH_TO_DATA, 'train_sessions.csv'), index_col='session_id')\n",
    "test_df = pd.read_csv(os.path.join(PATH_TO_DATA, 'test_sessions.csv'), index_col='session_id')"
   ]
  },
  {
   "cell_type": "markdown",
   "id": "61af8f10",
   "metadata": {},
   "source": [
    "**Basic Preprocessing**"
   ]
  },
  {
   "cell_type": "markdown",
   "id": "9523dd4b",
   "metadata": {},
   "source": [
    "Convert timestamps into pd.datetime"
   ]
  },
  {
   "cell_type": "code",
   "execution_count": 3,
   "id": "e4429839",
   "metadata": {},
   "outputs": [],
   "source": [
    "#list columns for easy access\n",
    "sites_cols = ['site%s' % i for i in range(1, 11)]\n",
    "times_cols = ['time%s' % i for i in range(1,11)]"
   ]
  },
  {
   "cell_type": "code",
   "execution_count": 4,
   "id": "2ded2126",
   "metadata": {},
   "outputs": [],
   "source": [
    "#convert timestamps to pd.datetime\n",
    "train_df[times_cols] = train_df[times_cols].apply(pd.to_datetime)\n",
    "test_df[times_cols] = test_df[times_cols].apply(pd.to_datetime)"
   ]
  },
  {
   "cell_type": "code",
   "execution_count": 5,
   "id": "c03426aa",
   "metadata": {},
   "outputs": [],
   "source": [
    "train_df = train_df.sort_values(by = 'time1')\n",
    "test_df = test_df.sort_values(by = 'time1')"
   ]
  },
  {
   "cell_type": "code",
   "execution_count": 6,
   "id": "297f7fe0",
   "metadata": {},
   "outputs": [
    {
     "data": {
      "application/vnd.microsoft.datawrangler.viewer.v0+json": {
       "columns": [
        {
         "name": "session_id",
         "rawType": "int64",
         "type": "integer"
        },
        {
         "name": "site1",
         "rawType": "int64",
         "type": "integer"
        },
        {
         "name": "time1",
         "rawType": "datetime64[ns]",
         "type": "datetime"
        },
        {
         "name": "site2",
         "rawType": "float64",
         "type": "float"
        },
        {
         "name": "time2",
         "rawType": "datetime64[ns]",
         "type": "datetime"
        },
        {
         "name": "site3",
         "rawType": "float64",
         "type": "float"
        },
        {
         "name": "time3",
         "rawType": "datetime64[ns]",
         "type": "datetime"
        },
        {
         "name": "site4",
         "rawType": "float64",
         "type": "float"
        },
        {
         "name": "time4",
         "rawType": "datetime64[ns]",
         "type": "datetime"
        },
        {
         "name": "site5",
         "rawType": "float64",
         "type": "float"
        },
        {
         "name": "time5",
         "rawType": "datetime64[ns]",
         "type": "datetime"
        },
        {
         "name": "site6",
         "rawType": "float64",
         "type": "float"
        },
        {
         "name": "time6",
         "rawType": "datetime64[ns]",
         "type": "datetime"
        },
        {
         "name": "site7",
         "rawType": "float64",
         "type": "float"
        },
        {
         "name": "time7",
         "rawType": "datetime64[ns]",
         "type": "datetime"
        },
        {
         "name": "site8",
         "rawType": "float64",
         "type": "float"
        },
        {
         "name": "time8",
         "rawType": "datetime64[ns]",
         "type": "datetime"
        },
        {
         "name": "site9",
         "rawType": "float64",
         "type": "float"
        },
        {
         "name": "time9",
         "rawType": "datetime64[ns]",
         "type": "datetime"
        },
        {
         "name": "site10",
         "rawType": "float64",
         "type": "float"
        },
        {
         "name": "time10",
         "rawType": "datetime64[ns]",
         "type": "datetime"
        }
       ],
       "ref": "fc43d367-50ac-4f15-9205-4d9563204c20",
       "rows": [
        [
         "65540",
         "21",
         "2014-05-01 17:14:03",
         null,
         null,
         null,
         null,
         null,
         null,
         null,
         null,
         null,
         null,
         null,
         null,
         null,
         null,
         null,
         null,
         null,
         null
        ],
        [
         "64199",
         "23",
         "2014-05-02 07:52:08",
         "66.0",
         "2014-05-02 07:54:08",
         "63.0",
         "2014-05-02 07:54:08",
         "2626.0",
         "2014-05-02 07:55:09",
         null,
         null,
         null,
         null,
         null,
         null,
         null,
         null,
         null,
         null,
         null,
         null
        ],
        [
         "2268",
         "979",
         "2014-05-02 07:57:51",
         "73.0",
         "2014-05-02 07:59:34",
         null,
         null,
         null,
         null,
         null,
         null,
         null,
         null,
         null,
         null,
         null,
         null,
         null,
         null,
         null,
         null
        ],
        [
         "29734",
         "66",
         "2014-05-02 08:05:16",
         "69.0",
         "2014-05-02 08:05:17",
         "67.0",
         "2014-05-02 08:05:17",
         "70.0",
         "2014-05-02 08:05:17",
         "71.0",
         "2014-05-02 08:05:17",
         "68.0",
         "2014-05-02 08:05:17",
         "71.0",
         "2014-05-02 08:05:18",
         "70.0",
         "2014-05-02 08:05:18",
         "69.0",
         "2014-05-02 08:05:18",
         "67.0",
         "2014-05-02 08:05:18"
        ],
        [
         "77048",
         "167",
         "2014-05-02 08:05:32",
         "167.0",
         "2014-05-02 08:05:33",
         "359.0",
         "2014-05-02 08:05:34",
         "167.0",
         "2014-05-02 08:05:34",
         "167.0",
         "2014-05-02 08:05:35",
         "305.0",
         "2014-05-02 08:09:19",
         "306.0",
         "2014-05-02 08:09:20",
         "306.0",
         "2014-05-02 08:09:22",
         "979.0",
         "2014-05-02 08:09:54",
         "68.0",
         "2014-05-02 08:12:46"
        ]
       ],
       "shape": {
        "columns": 20,
        "rows": 5
       }
      },
      "text/html": [
       "<div>\n",
       "<style scoped>\n",
       "    .dataframe tbody tr th:only-of-type {\n",
       "        vertical-align: middle;\n",
       "    }\n",
       "\n",
       "    .dataframe tbody tr th {\n",
       "        vertical-align: top;\n",
       "    }\n",
       "\n",
       "    .dataframe thead th {\n",
       "        text-align: right;\n",
       "    }\n",
       "</style>\n",
       "<table border=\"1\" class=\"dataframe\">\n",
       "  <thead>\n",
       "    <tr style=\"text-align: right;\">\n",
       "      <th></th>\n",
       "      <th>site1</th>\n",
       "      <th>time1</th>\n",
       "      <th>site2</th>\n",
       "      <th>time2</th>\n",
       "      <th>site3</th>\n",
       "      <th>time3</th>\n",
       "      <th>site4</th>\n",
       "      <th>time4</th>\n",
       "      <th>site5</th>\n",
       "      <th>time5</th>\n",
       "      <th>site6</th>\n",
       "      <th>time6</th>\n",
       "      <th>site7</th>\n",
       "      <th>time7</th>\n",
       "      <th>site8</th>\n",
       "      <th>time8</th>\n",
       "      <th>site9</th>\n",
       "      <th>time9</th>\n",
       "      <th>site10</th>\n",
       "      <th>time10</th>\n",
       "    </tr>\n",
       "    <tr>\n",
       "      <th>session_id</th>\n",
       "      <th></th>\n",
       "      <th></th>\n",
       "      <th></th>\n",
       "      <th></th>\n",
       "      <th></th>\n",
       "      <th></th>\n",
       "      <th></th>\n",
       "      <th></th>\n",
       "      <th></th>\n",
       "      <th></th>\n",
       "      <th></th>\n",
       "      <th></th>\n",
       "      <th></th>\n",
       "      <th></th>\n",
       "      <th></th>\n",
       "      <th></th>\n",
       "      <th></th>\n",
       "      <th></th>\n",
       "      <th></th>\n",
       "      <th></th>\n",
       "    </tr>\n",
       "  </thead>\n",
       "  <tbody>\n",
       "    <tr>\n",
       "      <th>65540</th>\n",
       "      <td>21</td>\n",
       "      <td>2014-05-01 17:14:03</td>\n",
       "      <td>NaN</td>\n",
       "      <td>NaT</td>\n",
       "      <td>NaN</td>\n",
       "      <td>NaT</td>\n",
       "      <td>NaN</td>\n",
       "      <td>NaT</td>\n",
       "      <td>NaN</td>\n",
       "      <td>NaT</td>\n",
       "      <td>NaN</td>\n",
       "      <td>NaT</td>\n",
       "      <td>NaN</td>\n",
       "      <td>NaT</td>\n",
       "      <td>NaN</td>\n",
       "      <td>NaT</td>\n",
       "      <td>NaN</td>\n",
       "      <td>NaT</td>\n",
       "      <td>NaN</td>\n",
       "      <td>NaT</td>\n",
       "    </tr>\n",
       "    <tr>\n",
       "      <th>64199</th>\n",
       "      <td>23</td>\n",
       "      <td>2014-05-02 07:52:08</td>\n",
       "      <td>66.0</td>\n",
       "      <td>2014-05-02 07:54:08</td>\n",
       "      <td>63.0</td>\n",
       "      <td>2014-05-02 07:54:08</td>\n",
       "      <td>2626.0</td>\n",
       "      <td>2014-05-02 07:55:09</td>\n",
       "      <td>NaN</td>\n",
       "      <td>NaT</td>\n",
       "      <td>NaN</td>\n",
       "      <td>NaT</td>\n",
       "      <td>NaN</td>\n",
       "      <td>NaT</td>\n",
       "      <td>NaN</td>\n",
       "      <td>NaT</td>\n",
       "      <td>NaN</td>\n",
       "      <td>NaT</td>\n",
       "      <td>NaN</td>\n",
       "      <td>NaT</td>\n",
       "    </tr>\n",
       "    <tr>\n",
       "      <th>2268</th>\n",
       "      <td>979</td>\n",
       "      <td>2014-05-02 07:57:51</td>\n",
       "      <td>73.0</td>\n",
       "      <td>2014-05-02 07:59:34</td>\n",
       "      <td>NaN</td>\n",
       "      <td>NaT</td>\n",
       "      <td>NaN</td>\n",
       "      <td>NaT</td>\n",
       "      <td>NaN</td>\n",
       "      <td>NaT</td>\n",
       "      <td>NaN</td>\n",
       "      <td>NaT</td>\n",
       "      <td>NaN</td>\n",
       "      <td>NaT</td>\n",
       "      <td>NaN</td>\n",
       "      <td>NaT</td>\n",
       "      <td>NaN</td>\n",
       "      <td>NaT</td>\n",
       "      <td>NaN</td>\n",
       "      <td>NaT</td>\n",
       "    </tr>\n",
       "    <tr>\n",
       "      <th>29734</th>\n",
       "      <td>66</td>\n",
       "      <td>2014-05-02 08:05:16</td>\n",
       "      <td>69.0</td>\n",
       "      <td>2014-05-02 08:05:17</td>\n",
       "      <td>67.0</td>\n",
       "      <td>2014-05-02 08:05:17</td>\n",
       "      <td>70.0</td>\n",
       "      <td>2014-05-02 08:05:17</td>\n",
       "      <td>71.0</td>\n",
       "      <td>2014-05-02 08:05:17</td>\n",
       "      <td>68.0</td>\n",
       "      <td>2014-05-02 08:05:17</td>\n",
       "      <td>71.0</td>\n",
       "      <td>2014-05-02 08:05:18</td>\n",
       "      <td>70.0</td>\n",
       "      <td>2014-05-02 08:05:18</td>\n",
       "      <td>69.0</td>\n",
       "      <td>2014-05-02 08:05:18</td>\n",
       "      <td>67.0</td>\n",
       "      <td>2014-05-02 08:05:18</td>\n",
       "    </tr>\n",
       "    <tr>\n",
       "      <th>77048</th>\n",
       "      <td>167</td>\n",
       "      <td>2014-05-02 08:05:32</td>\n",
       "      <td>167.0</td>\n",
       "      <td>2014-05-02 08:05:33</td>\n",
       "      <td>359.0</td>\n",
       "      <td>2014-05-02 08:05:34</td>\n",
       "      <td>167.0</td>\n",
       "      <td>2014-05-02 08:05:34</td>\n",
       "      <td>167.0</td>\n",
       "      <td>2014-05-02 08:05:35</td>\n",
       "      <td>305.0</td>\n",
       "      <td>2014-05-02 08:09:19</td>\n",
       "      <td>306.0</td>\n",
       "      <td>2014-05-02 08:09:20</td>\n",
       "      <td>306.0</td>\n",
       "      <td>2014-05-02 08:09:22</td>\n",
       "      <td>979.0</td>\n",
       "      <td>2014-05-02 08:09:54</td>\n",
       "      <td>68.0</td>\n",
       "      <td>2014-05-02 08:12:46</td>\n",
       "    </tr>\n",
       "  </tbody>\n",
       "</table>\n",
       "</div>"
      ],
      "text/plain": [
       "            site1               time1  site2               time2  site3  \\\n",
       "session_id                                                                \n",
       "65540          21 2014-05-01 17:14:03    NaN                 NaT    NaN   \n",
       "64199          23 2014-05-02 07:52:08   66.0 2014-05-02 07:54:08   63.0   \n",
       "2268          979 2014-05-02 07:57:51   73.0 2014-05-02 07:59:34    NaN   \n",
       "29734          66 2014-05-02 08:05:16   69.0 2014-05-02 08:05:17   67.0   \n",
       "77048         167 2014-05-02 08:05:32  167.0 2014-05-02 08:05:33  359.0   \n",
       "\n",
       "                         time3   site4               time4  site5  \\\n",
       "session_id                                                          \n",
       "65540                      NaT     NaN                 NaT    NaN   \n",
       "64199      2014-05-02 07:54:08  2626.0 2014-05-02 07:55:09    NaN   \n",
       "2268                       NaT     NaN                 NaT    NaN   \n",
       "29734      2014-05-02 08:05:17    70.0 2014-05-02 08:05:17   71.0   \n",
       "77048      2014-05-02 08:05:34   167.0 2014-05-02 08:05:34  167.0   \n",
       "\n",
       "                         time5  site6               time6  site7  \\\n",
       "session_id                                                         \n",
       "65540                      NaT    NaN                 NaT    NaN   \n",
       "64199                      NaT    NaN                 NaT    NaN   \n",
       "2268                       NaT    NaN                 NaT    NaN   \n",
       "29734      2014-05-02 08:05:17   68.0 2014-05-02 08:05:17   71.0   \n",
       "77048      2014-05-02 08:05:35  305.0 2014-05-02 08:09:19  306.0   \n",
       "\n",
       "                         time7  site8               time8  site9  \\\n",
       "session_id                                                         \n",
       "65540                      NaT    NaN                 NaT    NaN   \n",
       "64199                      NaT    NaN                 NaT    NaN   \n",
       "2268                       NaT    NaN                 NaT    NaN   \n",
       "29734      2014-05-02 08:05:18   70.0 2014-05-02 08:05:18   69.0   \n",
       "77048      2014-05-02 08:09:20  306.0 2014-05-02 08:09:22  979.0   \n",
       "\n",
       "                         time9  site10              time10  \n",
       "session_id                                                  \n",
       "65540                      NaT     NaN                 NaT  \n",
       "64199                      NaT     NaN                 NaT  \n",
       "2268                       NaT     NaN                 NaT  \n",
       "29734      2014-05-02 08:05:18    67.0 2014-05-02 08:05:18  \n",
       "77048      2014-05-02 08:09:54    68.0 2014-05-02 08:12:46  "
      ]
     },
     "execution_count": 6,
     "metadata": {},
     "output_type": "execute_result"
    }
   ],
   "source": [
    "test_df.head()"
   ]
  },
  {
   "cell_type": "markdown",
   "id": "32fff17c",
   "metadata": {},
   "source": [
    "**Feature Engineering**"
   ]
  },
  {
   "cell_type": "markdown",
   "id": "ea870365",
   "metadata": {},
   "source": [
    "Some features explored in the EDA showed significant differences between Alice and Intruder. Let's put them into the dataset."
   ]
  },
  {
   "cell_type": "code",
   "execution_count": 7,
   "id": "a3744a4f",
   "metadata": {},
   "outputs": [],
   "source": [
    "class AttributesAdder(BaseEstimator, TransformerMixin):\n",
    "    \"\"\"\n",
    "    Transformer that adds time-based and categorical features:\n",
    "\n",
    "    Features added:\n",
    "    - period1: 1 if hour is 12-13 or 18-19, else 0\n",
    "    - period2: 1 if hour is 16-18, else 0\n",
    "    - period3: 1 if hour is 0-12 or 19-24, else 0\n",
    "    - peak_alice_months: 1 if month is November or February, else 0\n",
    "    - mon_tue: 1 if day of week is Monday or Tuesday, else 0\n",
    "    - wed_thu: 1 if day of week is Wednesday or Thursday, else 0\n",
    "    - rest_week: 1 if day of week is Friday, Saturday, or Sunday, else 0\n",
    "    - year: Numeric year value\n",
    "\n",
    "    Returns:\n",
    "        np.ndarray: Array with new features as columns.\n",
    "    \"\"\"\n",
    "    def fit(self, X, y=None):\n",
    "        return self \n",
    "    def transform(self, X, y=None):\n",
    "        hour = X['time1'].apply(lambda ts: ts.hour)\n",
    "        period1 = ((hour >= 12) & (hour <= 13) | (hour >= 18) & (hour <= 19)).astype('int')\n",
    "        period2 = ((hour >= 16) & (hour <= 18)).astype('int')\n",
    "        period3 = ((hour <= 12) & (hour >= 0) | (hour >= 19) & (hour <= 24)).astype('int')\n",
    "        month = X['time1'].apply(lambda ts: ts.month)\n",
    "        peak_alice_months = ((month == 11) | (month == 2) | (month == 3)).astype('int')\n",
    "        weekday = X['time1'].apply(lambda ts: ts.weekday()).astype('int')\n",
    "        mon_tue = ((weekday == 0) | (weekday == 1)).astype('int')\n",
    "        wed_thu = ((weekday == 2) | (weekday == 3)).astype('int')\n",
    "        rest_week = ((weekday == 4) | (weekday == 5) | (weekday == 6)).astype('int')\n",
    "        year = X['time1'].apply(lambda ts: ts.year).astype('int')\n",
    "        X = np.c_[period1.values, period2.values, period3.values, peak_alice_months.values, \n",
    "                    mon_tue.values, wed_thu.values, rest_week.values, year.values]\n",
    "        return X"
   ]
  },
  {
   "cell_type": "code",
   "execution_count": 8,
   "id": "1e71cc11",
   "metadata": {},
   "outputs": [],
   "source": [
    "class ScaledAttributesAdder(BaseEstimator, TransformerMixin):\n",
    "    \"\"\"\n",
    "    Transformer that adds session duration as a feature, normalized using a power transform.\n",
    "    The duration is calculated as the difference between the max and min timestamps in a session.\n",
    "    \"\"\"\n",
    "    def fit(self, X, y=None):\n",
    "        return self\n",
    "    def transform(self, X, y=None):\n",
    "        times = ['time%s' % i for i in range(1, 11)]\n",
    "        session_duration = (X[times].max(axis=1) - X[times].min(axis=1)).astype('timedelta64[ms]').astype(int) ** 0.2\n",
    "        X = np.c_[session_duration.values]\n",
    "        return X"
   ]
  },
  {
   "cell_type": "markdown",
   "id": "eb9254a2",
   "metadata": {},
   "source": [
    "TF-IDF (Term Frequency-Inverse Document Frequency) is a statistical measure used to evaluate the importance of a word in a document relative to a collection of documents (corpus). \n",
    "Parameters:\n",
    "- ngram-range: the length of ngrams to use. Here we want sequences of 1 to 5 urls.\n",
    "- max_features: the maximum amount of features to include. Higher might overfit.\n",
    "- tokenizer: what pattern to split by. Here we want to include the \".\" in urls, so the split must be defined as a whitespace.\n",
    "\n",
    "We use this to correlate the frequency of visited sites to the user."
   ]
  },
  {
   "cell_type": "code",
   "execution_count": 9,
   "id": "c29c743b",
   "metadata": {},
   "outputs": [],
   "source": [
    "# From Yury Kashnitsky's notebook - Model validation in a competition\n",
    "PATH_TO_DATA = '../data'\n",
    "path_to_train = os.path.join(PATH_TO_DATA, 'train_sessions.csv')\n",
    "path_to_test = os.path.join(PATH_TO_DATA, 'test_sessions.csv')\n",
    "path_to_site_dict = os.path.join(PATH_TO_DATA, 'site_dic.pkl')\n",
    "vectorizer_params = dict(ngram_range=(1, 5), max_features=50000, tokenizer = lambda s: s.split())\n",
    "\n",
    "def prepare_sparse_features(path_to_train, path_to_test, path_to_site_dict,\n",
    "                           vectorizer_params):\n",
    "    times = ['time%s' % i for i in range(1, 11)]\n",
    "    train_df = pd.read_csv(path_to_train,\n",
    "                       index_col='session_id', parse_dates=times)\n",
    "    test_df = pd.read_csv(path_to_test,\n",
    "                      index_col='session_id', parse_dates=times)\n",
    "\n",
    "    # Sort the data by time\n",
    "    train_df = train_df.sort_values(by='time1')\n",
    "    \n",
    "    # read site -> id mapping provided by competition organizers \n",
    "    with open(path_to_site_dict, 'rb') as f:\n",
    "        site2id = pickle.load(f)\n",
    "    # create an inverse id _> site mapping\n",
    "    id2site = {v:k for (k, v) in site2id.items()}\n",
    "    # we treat site with id 0 as \"unknown\"\n",
    "    id2site[0] = 'unknown'\n",
    "    \n",
    "    # Transform data into format which can be fed into TfidfVectorizer\n",
    "    # This time we prefer to represent sessions with site names, not site ids. \n",
    "    # It's less efficient but thus it'll be more convenient to interpret model weights.\n",
    "    sites = ['site%s' % i for i in range(1, 11)]\n",
    "    train_sessions = train_df[sites].fillna(0).astype('int').apply(lambda row: \n",
    "                                                     ' '.join([id2site[i] for i in row]), axis=1).tolist()\n",
    "    test_sessions = test_df[sites].fillna(0).astype('int').apply(lambda row: \n",
    "                                                     ' '.join([id2site[i] for i in row]), axis=1).tolist()\n",
    "    # we'll tell TfidfVectorizer that we'd like to split data by whitespaces only \n",
    "    # so that it doesn't split by dots (we wouldn't like to have 'mail.google.com' \n",
    "    # to be split into 'mail', 'google' and 'com')\n",
    "    vectorizer = TfidfVectorizer(**vectorizer_params)\n",
    "    X_train = vectorizer.fit_transform(train_sessions)\n",
    "    X_test = vectorizer.transform(test_sessions)\n",
    "    y_train = train_df['target'].astype('int').values\n",
    "    \n",
    "    # we'll need site visit times for further feature engineering\n",
    "    train_times, test_times = train_df[times], test_df[times]\n",
    "    \n",
    "    return X_train, X_test, y_train, vectorizer, train_times, test_times"
   ]
  },
  {
   "cell_type": "code",
   "execution_count": 10,
   "id": "80162d26",
   "metadata": {},
   "outputs": [],
   "source": [
    "X_train, X_test, y_train, vectorizer, train_times, test_times = prepare_sparse_features(\n",
    "    path_to_train, path_to_test, path_to_site_dict, vectorizer_params\n",
    ")"
   ]
  },
  {
   "cell_type": "code",
   "execution_count": 11,
   "id": "970ec04f",
   "metadata": {},
   "outputs": [
    {
     "name": "stdout",
     "output_type": "stream",
     "text": [
      "(253561, 50000) (82797, 50000)\n"
     ]
    }
   ],
   "source": [
    "print(X_train.shape, X_test.shape)"
   ]
  },
  {
   "cell_type": "code",
   "execution_count": 12,
   "id": "e5992699",
   "metadata": {},
   "outputs": [
    {
     "data": {
      "text/plain": [
       "array(['0.academia-assets.com', '0.docs.google.com',\n",
       "       '0.docs.google.com 0.docs.google.com',\n",
       "       '0.docs.google.com 0.docs.google.com 0.docs.google.com',\n",
       "       '0.docs.google.com 0.docs.google.com 0.docs.google.com 0.docs.google.com',\n",
       "       '0.docs.google.com 0.docs.google.com 0.drive.google.com',\n",
       "       '0.docs.google.com 0.docs.google.com 0.talkgadget.google.com',\n",
       "       '0.docs.google.com 0.docs.google.com apis.google.com',\n",
       "       '0.docs.google.com 0.docs.google.com docs.google.com',\n",
       "       '0.docs.google.com 0.docs.google.com docs.google.com 0.talkgadget.google.com'],\n",
       "      dtype=object)"
      ]
     },
     "execution_count": 12,
     "metadata": {},
     "output_type": "execute_result"
    }
   ],
   "source": [
    "vectorizer.get_feature_names_out()[:10]"
   ]
  },
  {
   "cell_type": "markdown",
   "id": "41d75787",
   "metadata": {},
   "source": [
    "We make 2 feature engineer pipelines:\n",
    "* feature_pipeline: Returns a 2D-array of engineered features from the given dataset.\n",
    "* scaled_pipeline: Returns a 2D-array of engineered features (with scaling) from the given dataset."
   ]
  },
  {
   "cell_type": "code",
   "execution_count": 13,
   "id": "451827b5",
   "metadata": {},
   "outputs": [],
   "source": [
    "#Initialize the pipelines\n",
    "feature_pipeline = Pipeline([('feature_engineering', AttributesAdder())])\n",
    "\n",
    "scaled_pipeline = Pipeline([\n",
    "    ('scaled_feature_adder', ScaledAttributesAdder()),\n",
    "    ('scaler', StandardScaler())\n",
    "])"
   ]
  },
  {
   "cell_type": "markdown",
   "id": "010b834a",
   "metadata": {},
   "source": [
    "FeatureUnion performs the transformation processes in parallel, concatenating them together at the end."
   ]
  },
  {
   "cell_type": "code",
   "execution_count": 14,
   "id": "ef7df13c",
   "metadata": {},
   "outputs": [],
   "source": [
    "no_vectorizer_pipeline = FeatureUnion(transformer_list=[\n",
    "    ('feature_pipeline', feature_pipeline),\n",
    "    ('scaled_pipeline', scaled_pipeline)\n",
    "])"
   ]
  },
  {
   "cell_type": "markdown",
   "id": "f8dfb85f",
   "metadata": {},
   "source": [
    "Apply the all preprocessing processes to the main dataset."
   ]
  },
  {
   "cell_type": "code",
   "execution_count": 15,
   "id": "ef7df13c",
   "metadata": {},
   "outputs": [],
   "source": [
    "engineered_train = no_vectorizer_pipeline.fit_transform(train_df)\n",
    "engineered_test = no_vectorizer_pipeline.transform(test_df)\n",
    "X_train_full = hstack([X_train, engineered_train])\n",
    "X_test_full = hstack([X_test, engineered_test])\n",
    "y_train = train_df[\"target\"].astype('int').values"
   ]
  },
  {
   "cell_type": "markdown",
   "id": "067dfda3",
   "metadata": {},
   "source": [
    "We will make a pipeline without the vectorizer to analyse the other transformation processes."
   ]
  },
  {
   "cell_type": "code",
   "execution_count": 16,
   "id": "be475ac2",
   "metadata": {},
   "outputs": [],
   "source": [
    "feature_columns = [\n",
    "    \"period1\", \"period2\", \"period3\", \"peak_alice_months\", \"mon_tue\", \"wed_thu\", \"rest_week\", \"year\"\n",
    "]\n",
    "scaled_columns = [\n",
    "    \"session_duration\"\n",
    "]\n",
    "\n",
    "X_train_no_vectorizer = no_vectorizer_pipeline.fit_transform(train_df)\n",
    "X_test_no_vectorizer = no_vectorizer_pipeline.transform(test_df)\n",
    "\n",
    "X_train_no_tokenizer_df = pd.DataFrame(\n",
    "    X_train_no_vectorizer, \n",
    "    columns=feature_columns + scaled_columns\n",
    ")"
   ]
  },
  {
   "cell_type": "code",
   "execution_count": 17,
   "id": "57b88d1a",
   "metadata": {},
   "outputs": [
    {
     "data": {
      "application/vnd.microsoft.datawrangler.viewer.v0+json": {
       "columns": [
        {
         "name": "index",
         "rawType": "object",
         "type": "string"
        },
        {
         "name": "period1",
         "rawType": "float64",
         "type": "float"
        },
        {
         "name": "period2",
         "rawType": "float64",
         "type": "float"
        },
        {
         "name": "period3",
         "rawType": "float64",
         "type": "float"
        },
        {
         "name": "peak_alice_months",
         "rawType": "float64",
         "type": "float"
        },
        {
         "name": "mon_tue",
         "rawType": "float64",
         "type": "float"
        },
        {
         "name": "wed_thu",
         "rawType": "float64",
         "type": "float"
        },
        {
         "name": "rest_week",
         "rawType": "float64",
         "type": "float"
        },
        {
         "name": "year",
         "rawType": "float64",
         "type": "float"
        },
        {
         "name": "session_duration",
         "rawType": "float64",
         "type": "float"
        }
       ],
       "ref": "22f342de-3376-4408-9d4b-c25a2d317ec4",
       "rows": [
        [
         "count",
         "253561.0",
         "253561.0",
         "253561.0",
         "253561.0",
         "253561.0",
         "253561.0",
         "253561.0",
         "253561.0",
         "253561.0"
        ],
        [
         "mean",
         "0.17908905549354986",
         "0.13987561178572414",
         "0.5781488478117691",
         "0.605660965211527",
         "0.35167868875734043",
         "0.39484778810621507",
         "0.2534735231364445",
         "2013.705494930214",
         "1.145562095033262e-16"
        ],
        [
         "std",
         "0.3834276274659564",
         "0.34685861600705076",
         "0.4938559703594139",
         "0.4887092206624792",
         "0.47749522283455886",
         "0.48881893855167674",
         "0.4350005085940891",
         "0.45582085634066905",
         "1.000001971917917"
        ],
        [
         "min",
         "0.0",
         "0.0",
         "0.0",
         "0.0",
         "0.0",
         "0.0",
         "0.0",
         "2013.0",
         "-2.379875516659317"
        ],
        [
         "25%",
         "0.0",
         "0.0",
         "0.0",
         "0.0",
         "0.0",
         "0.0",
         "0.0",
         "2013.0",
         "-0.6786939481781287"
        ],
        [
         "50%",
         "0.0",
         "0.0",
         "1.0",
         "1.0",
         "0.0",
         "0.0",
         "0.0",
         "2014.0",
         "-0.15142079953781826"
        ],
        [
         "75%",
         "0.0",
         "0.0",
         "1.0",
         "1.0",
         "1.0",
         "1.0",
         "1.0",
         "2014.0",
         "0.5873239986626915"
        ],
        [
         "max",
         "1.0",
         "1.0",
         "1.0",
         "1.0",
         "1.0",
         "1.0",
         "1.0",
         "2014.0",
         "2.781738935498302"
        ]
       ],
       "shape": {
        "columns": 9,
        "rows": 8
       }
      },
      "text/html": [
       "<div>\n",
       "<style scoped>\n",
       "    .dataframe tbody tr th:only-of-type {\n",
       "        vertical-align: middle;\n",
       "    }\n",
       "\n",
       "    .dataframe tbody tr th {\n",
       "        vertical-align: top;\n",
       "    }\n",
       "\n",
       "    .dataframe thead th {\n",
       "        text-align: right;\n",
       "    }\n",
       "</style>\n",
       "<table border=\"1\" class=\"dataframe\">\n",
       "  <thead>\n",
       "    <tr style=\"text-align: right;\">\n",
       "      <th></th>\n",
       "      <th>period1</th>\n",
       "      <th>period2</th>\n",
       "      <th>period3</th>\n",
       "      <th>peak_alice_months</th>\n",
       "      <th>mon_tue</th>\n",
       "      <th>wed_thu</th>\n",
       "      <th>rest_week</th>\n",
       "      <th>year</th>\n",
       "      <th>session_duration</th>\n",
       "    </tr>\n",
       "  </thead>\n",
       "  <tbody>\n",
       "    <tr>\n",
       "      <th>count</th>\n",
       "      <td>253561.000000</td>\n",
       "      <td>253561.000000</td>\n",
       "      <td>253561.000000</td>\n",
       "      <td>253561.000000</td>\n",
       "      <td>253561.000000</td>\n",
       "      <td>253561.000000</td>\n",
       "      <td>253561.000000</td>\n",
       "      <td>253561.000000</td>\n",
       "      <td>2.535610e+05</td>\n",
       "    </tr>\n",
       "    <tr>\n",
       "      <th>mean</th>\n",
       "      <td>0.179089</td>\n",
       "      <td>0.139876</td>\n",
       "      <td>0.578149</td>\n",
       "      <td>0.605661</td>\n",
       "      <td>0.351679</td>\n",
       "      <td>0.394848</td>\n",
       "      <td>0.253474</td>\n",
       "      <td>2013.705495</td>\n",
       "      <td>1.145562e-16</td>\n",
       "    </tr>\n",
       "    <tr>\n",
       "      <th>std</th>\n",
       "      <td>0.383428</td>\n",
       "      <td>0.346859</td>\n",
       "      <td>0.493856</td>\n",
       "      <td>0.488709</td>\n",
       "      <td>0.477495</td>\n",
       "      <td>0.488819</td>\n",
       "      <td>0.435001</td>\n",
       "      <td>0.455821</td>\n",
       "      <td>1.000002e+00</td>\n",
       "    </tr>\n",
       "    <tr>\n",
       "      <th>min</th>\n",
       "      <td>0.000000</td>\n",
       "      <td>0.000000</td>\n",
       "      <td>0.000000</td>\n",
       "      <td>0.000000</td>\n",
       "      <td>0.000000</td>\n",
       "      <td>0.000000</td>\n",
       "      <td>0.000000</td>\n",
       "      <td>2013.000000</td>\n",
       "      <td>-2.379876e+00</td>\n",
       "    </tr>\n",
       "    <tr>\n",
       "      <th>25%</th>\n",
       "      <td>0.000000</td>\n",
       "      <td>0.000000</td>\n",
       "      <td>0.000000</td>\n",
       "      <td>0.000000</td>\n",
       "      <td>0.000000</td>\n",
       "      <td>0.000000</td>\n",
       "      <td>0.000000</td>\n",
       "      <td>2013.000000</td>\n",
       "      <td>-6.786939e-01</td>\n",
       "    </tr>\n",
       "    <tr>\n",
       "      <th>50%</th>\n",
       "      <td>0.000000</td>\n",
       "      <td>0.000000</td>\n",
       "      <td>1.000000</td>\n",
       "      <td>1.000000</td>\n",
       "      <td>0.000000</td>\n",
       "      <td>0.000000</td>\n",
       "      <td>0.000000</td>\n",
       "      <td>2014.000000</td>\n",
       "      <td>-1.514208e-01</td>\n",
       "    </tr>\n",
       "    <tr>\n",
       "      <th>75%</th>\n",
       "      <td>0.000000</td>\n",
       "      <td>0.000000</td>\n",
       "      <td>1.000000</td>\n",
       "      <td>1.000000</td>\n",
       "      <td>1.000000</td>\n",
       "      <td>1.000000</td>\n",
       "      <td>1.000000</td>\n",
       "      <td>2014.000000</td>\n",
       "      <td>5.873240e-01</td>\n",
       "    </tr>\n",
       "    <tr>\n",
       "      <th>max</th>\n",
       "      <td>1.000000</td>\n",
       "      <td>1.000000</td>\n",
       "      <td>1.000000</td>\n",
       "      <td>1.000000</td>\n",
       "      <td>1.000000</td>\n",
       "      <td>1.000000</td>\n",
       "      <td>1.000000</td>\n",
       "      <td>2014.000000</td>\n",
       "      <td>2.781739e+00</td>\n",
       "    </tr>\n",
       "  </tbody>\n",
       "</table>\n",
       "</div>"
      ],
      "text/plain": [
       "             period1        period2        period3  peak_alice_months  \\\n",
       "count  253561.000000  253561.000000  253561.000000      253561.000000   \n",
       "mean        0.179089       0.139876       0.578149           0.605661   \n",
       "std         0.383428       0.346859       0.493856           0.488709   \n",
       "min         0.000000       0.000000       0.000000           0.000000   \n",
       "25%         0.000000       0.000000       0.000000           0.000000   \n",
       "50%         0.000000       0.000000       1.000000           1.000000   \n",
       "75%         0.000000       0.000000       1.000000           1.000000   \n",
       "max         1.000000       1.000000       1.000000           1.000000   \n",
       "\n",
       "             mon_tue        wed_thu      rest_week           year  \\\n",
       "count  253561.000000  253561.000000  253561.000000  253561.000000   \n",
       "mean        0.351679       0.394848       0.253474    2013.705495   \n",
       "std         0.477495       0.488819       0.435001       0.455821   \n",
       "min         0.000000       0.000000       0.000000    2013.000000   \n",
       "25%         0.000000       0.000000       0.000000    2013.000000   \n",
       "50%         0.000000       0.000000       0.000000    2014.000000   \n",
       "75%         1.000000       1.000000       1.000000    2014.000000   \n",
       "max         1.000000       1.000000       1.000000    2014.000000   \n",
       "\n",
       "       session_duration  \n",
       "count      2.535610e+05  \n",
       "mean       1.145562e-16  \n",
       "std        1.000002e+00  \n",
       "min       -2.379876e+00  \n",
       "25%       -6.786939e-01  \n",
       "50%       -1.514208e-01  \n",
       "75%        5.873240e-01  \n",
       "max        2.781739e+00  "
      ]
     },
     "execution_count": 17,
     "metadata": {},
     "output_type": "execute_result"
    }
   ],
   "source": [
    "#Check if the features were added correctly\n",
    "X_train_no_tokenizer_df.describe()"
   ]
  },
  {
   "cell_type": "markdown",
   "id": "4268b3ac",
   "metadata": {},
   "source": [
    "The ranges of features are within the expected values. Tranformation processes were applied correctly."
   ]
  },
  {
   "cell_type": "code",
   "execution_count": 18,
   "id": "855b3f52",
   "metadata": {},
   "outputs": [
    {
     "name": "stdout",
     "output_type": "stream",
     "text": [
      "NaNs in sample: 0\n",
      "Infs in sample: 0\n",
      "Sample rows:\n",
      " [[0. 0. 0. ... 0. 0. 0.]\n",
      " [0. 0. 0. ... 0. 0. 0.]\n",
      " [0. 0. 0. ... 0. 0. 0.]\n",
      " ...\n",
      " [0. 0. 0. ... 0. 0. 0.]\n",
      " [0. 0. 0. ... 0. 0. 0.]\n",
      " [0. 0. 0. ... 0. 0. 0.]]\n",
      "Nonzero elements: 4112650\n",
      "Sparsity: 0.03%\n",
      "Sample min: 0.0\n",
      "Sample max: 0.9765530230425825\n"
     ]
    }
   ],
   "source": [
    "# The transformed dataset is very large. We sample a few rows to take a look.\n",
    "sample = X_train[:1000].toarray()\n",
    "print(\"NaNs in sample:\", np.isnan(sample).sum())\n",
    "print(\"Infs in sample:\", np.isinf(sample).sum())\n",
    "print(\"Sample rows:\\n\", sample)\n",
    "\n",
    "# Check sparsity\n",
    "print(\"Nonzero elements:\", X_train.nnz)\n",
    "print(\"Sparsity: {:.2f}%\".format(100 * X_train.nnz / (X_train.shape[0] * X_train.shape[1])))\n",
    "\n",
    "# Check min/max (Make sure everything is scaled)\n",
    "print(\"Sample min:\", sample.min())\n",
    "print(\"Sample max:\", sample.max())"
   ]
  },
  {
   "cell_type": "markdown",
   "id": "b4112056",
   "metadata": {},
   "source": [
    "The dataset looks good, without NaNs, infs or large outliers."
   ]
  },
  {
   "cell_type": "markdown",
   "id": "a4a3e1d9",
   "metadata": {},
   "source": [
    "We extract the transformed dataset into new files. The transformed dataset is very sparse, and therefore must be stored in .npz files, which are more efficient."
   ]
  },
  {
   "cell_type": "code",
   "execution_count": 19,
   "id": "54009f62",
   "metadata": {},
   "outputs": [],
   "source": [
    "from scipy import sparse\n",
    "sparse.save_npz('../data/X_train_baseline.npz', X_train)\n",
    "sparse.save_npz('../data/X_test_baseline.npz', X_test)\n",
    "sparse.save_npz('../data/X_train_engineered.npz', X_train_full)\n",
    "sparse.save_npz('../data/X_test_engineered.npz', X_test_full)\n",
    "np.save('../data/y_train.npy', y_train)\n",
    "np.save(\"../data/site_feature_names.npy\", vectorizer.get_feature_names_out())"
   ]
  }
 ],
 "metadata": {
  "kernelspec": {
   "display_name": "Python 3",
   "language": "python",
   "name": "python3"
  },
  "language_info": {
   "codemirror_mode": {
    "name": "ipython",
    "version": 3
   },
   "file_extension": ".py",
   "mimetype": "text/x-python",
   "name": "python",
   "nbconvert_exporter": "python",
   "pygments_lexer": "ipython3",
   "version": "3.12.1"
  }
 },
 "nbformat": 4,
 "nbformat_minor": 5
}
